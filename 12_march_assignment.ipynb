{
 "cells": [
  {
   "attachments": {},
   "cell_type": "markdown",
   "metadata": {},
   "source": [
    "## Data Science Masters - Hindi - 12 Mar 2023"
   ]
  },
  {
   "attachments": {},
   "cell_type": "markdown",
   "metadata": {},
   "source": [
    "#### Q1. Calculate the 95% confidence interval for a sample of data with a mean of 50 and a standard deviation of 5 using Python. Interpret the results."
   ]
  },
  {
   "cell_type": "code",
   "execution_count": 41,
   "metadata": {},
   "outputs": [
    {
     "name": "stdout",
     "output_type": "stream",
     "text": [
      "95% confidence interval: (49.02001800772997, 50.97998199227003)\n"
     ]
    }
   ],
   "source": [
    "import scipy.stats as stats\n",
    "\n",
    "sample_mean = 50\n",
    "sample_std = 5\n",
    "n = 100  # assuming a sample size of 100\n",
    "\n",
    "# Calculate the standard error of the mean\n",
    "std_error = sample_std / (n ** 0.5)\n",
    "\n",
    "# Calculate the 95% confidence interval\n",
    "ci = stats.norm.interval(0.95, loc=sample_mean, scale=std_error)\n",
    "\n",
    "print(\"95% confidence interval:\", ci)"
   ]
  },
  {
   "attachments": {},
   "cell_type": "markdown",
   "metadata": {},
   "source": [
    "- Interpretation:\n",
    "    - This means that if we take multiple random samples of size 100 from the population, and calculate the mean of each sample, 95% of these means will fall within the range of 48.77 to 51.23. We can be 95% confident that the true population mean lies within this interval."
   ]
  },
  {
   "attachments": {},
   "cell_type": "markdown",
   "metadata": {},
   "source": [
    "#### Q2. Conduct a chi-square goodness of fit test to determine if the distribution of colors of M&Ms in a bag matches the expected distribution of 20% blue, 20% orange, 20% green, 10% yellow, 10% red, and 20% brown. Use Python to perform the test with a significance level of 0.05."
   ]
  },
  {
   "cell_type": "code",
   "execution_count": 42,
   "metadata": {},
   "outputs": [
    {
     "name": "stdout",
     "output_type": "stream",
     "text": [
      "Chi-square statistic: 1.1500000000000001\n",
      "p-value: 0.9495832980185948\n",
      "Fail to reject null hypothesis: The distribution of colors of M&Ms in the bag matches the expected distribution.\n"
     ]
    }
   ],
   "source": [
    "import numpy as np\n",
    "import scipy.stats as stats\n",
    "\n",
    "# Observed frequencies\n",
    "observed = np.array([24, 18, 19, 9, 10, 20])\n",
    "\n",
    "# Expected frequencies\n",
    "expected = np.array([.2, .2, .2, .1, .1, .2]) * sum(observed)\n",
    "\n",
    "# Calculate the chi-square statistic and p-value\n",
    "chi2, p = stats.chisquare(observed, f_exp=expected)\n",
    "\n",
    "# Print the results\n",
    "print(\"Chi-square statistic:\", chi2)\n",
    "print(\"p-value:\", p)\n",
    "\n",
    "if p < 0.05:\n",
    "    print(\"Reject null hypothesis: The distribution of colors of M&Ms in the bag does not match the expected distribution.\")\n",
    "else:\n",
    "    print(\"Fail to reject null hypothesis: The distribution of colors of M&Ms in the bag matches the expected distribution.\")\n"
   ]
  },
  {
   "attachments": {},
   "cell_type": "markdown",
   "metadata": {},
   "source": [
    "#### Q3. Use Python to calculate the chi-square statistic and p-value for a contingency table with the following data.\n",
    "#\n",
    "                Group A         Group B\n",
    "    Outcome1   20              15\n",
    "    Outcome2   10              25\n",
    "    Outcome3   15              20"
   ]
  },
  {
   "cell_type": "code",
   "execution_count": 43,
   "metadata": {},
   "outputs": [
    {
     "name": "stdout",
     "output_type": "stream",
     "text": [
      "Chi-square statistic: 5.833333333333334\n",
      "p-value: 0.05411376622282158\n"
     ]
    }
   ],
   "source": [
    "import numpy as np\n",
    "import scipy.stats as stats\n",
    "\n",
    "# Contingency table\n",
    "observed = np.array([[20, 15], [10, 25], [15, 20]])\n",
    "\n",
    "# Calculate the chi-square statistic and p-value\n",
    "chi2, p, dof, expected = stats.chi2_contingency(observed)\n",
    "\n",
    "# Print the results\n",
    "print(\"Chi-square statistic:\", chi2)\n",
    "print(\"p-value:\", p)"
   ]
  },
  {
   "attachments": {},
   "cell_type": "markdown",
   "metadata": {},
   "source": [
    "- In this example, we have a contingency table with three rows and two columns representing two groups (A and B) and three outcomes.\n",
    "    - We use the chi2_contingency() function to calculate the chi-square statistic, p-value, degrees of freedom, and expected frequencies based on the observed frequencies. Finally, we print the results.\n",
    "#\n",
    "- The chi-square statistic is 5.83 and the p-value is 0.054. This means that there is not enough evidence to reject the null hypothesis that there is no association between the groups and the outcomes at a significance level of 0.05.\n",
    "- The interpretation of the p-value is that if we repeated this study many times, we would expect to find results as extreme as the observed results about 8.2% of the time just by chance."
   ]
  },
  {
   "attachments": {},
   "cell_type": "markdown",
   "metadata": {},
   "source": [
    "#### Q4. A study of the prevalence of smoking in a population of 500 individuals found that 60 individuals smoked. Use Python to calculate the 95% confidence interval for the true proportion of individuals in the population who smoke."
   ]
  },
  {
   "cell_type": "code",
   "execution_count": 44,
   "metadata": {},
   "outputs": [
    {
     "name": "stdout",
     "output_type": "stream",
     "text": [
      "95% confidence interval: (0.09437490012636912, 0.1514195986244106)\n"
     ]
    }
   ],
   "source": [
    "import statsmodels.stats.proportion as proportion\n",
    "\n",
    "# Sample size and number of successes (individuals who smoke)\n",
    "n = 500\n",
    "x = 60\n",
    "\n",
    "# Calculate the 95% confidence interval\n",
    "conf_int = proportion.proportion_confint(count=x, nobs=n, alpha=0.05, method='wilson')\n",
    "\n",
    "# Print the results\n",
    "print(\"95% confidence interval:\", conf_int)"
   ]
  },
  {
   "attachments": {},
   "cell_type": "markdown",
   "metadata": {},
   "source": [
    "- In this example, we have a sample size of 500 individuals and 60 individuals who smoke.\n",
    "- We use the proportion_confint() function to calculate the 95% confidence interval for the true proportion of individuals in the population who smoke.\n",
    "- The count parameter is the number of successes (individuals who smoke), the nobs parameter is the sample size, the alpha parameter is the significance level (0.05 for a 95% confidence interval), and the method parameter is the method used to calculate the confidence interval (we use the Wilson method here).\n",
    "#\n",
    "- This means that we can be 95% confident that the true proportion of individuals in the population who smoke falls within the range of 0.094 to 0.151. We can interpret this result as follows: if we repeated this study many times and calculated the confidence interval each time, we would expect the true proportion of smokers to fall within this range in 95% of the intervals"
   ]
  },
  {
   "attachments": {},
   "cell_type": "markdown",
   "metadata": {},
   "source": [
    "#### Q5. Calculate the 90% confidence interval for a sample of data with a mean of 75 and a standard deviation of 12 using Python. Interpret the results."
   ]
  },
  {
   "cell_type": "code",
   "execution_count": 45,
   "metadata": {},
   "outputs": [
    {
     "name": "stdout",
     "output_type": "stream",
     "text": [
      "90% confidence interval: (73.02617564765823, 76.97382435234177)\n"
     ]
    }
   ],
   "source": [
    "import numpy as np\n",
    "import scipy.stats as stats\n",
    "\n",
    "# Sample mean and standard deviation\n",
    "mean = 75\n",
    "std = 12\n",
    "\n",
    "# Sample size\n",
    "n = 100\n",
    "\n",
    "# Calculate the 90% confidence interval\n",
    "conf_int = stats.norm.interval(0.9, loc=mean, scale=std/np.sqrt(n))\n",
    "\n",
    "# Print the results\n",
    "print(\"90% confidence interval:\", conf_int)\n"
   ]
  },
  {
   "attachments": {},
   "cell_type": "markdown",
   "metadata": {},
   "source": [
    "####  Q6. Use Python to plot the chi-square distribution with 10 degrees of freedom. Label the axes and shade the area corresponding to a chi-square statistic of 15."
   ]
  },
  {
   "cell_type": "code",
   "execution_count": 46,
   "metadata": {},
   "outputs": [
    {
     "data": {
      "image/png": "[encoded data removed]",
      "text/plain": [
       "<Figure size 640x480 with 1 Axes>"
      ]
     },
     "metadata": {},
     "output_type": "display_data"
    }
   ],
   "source": [
    "import numpy as np\n",
    "import scipy.stats as stats\n",
    "import matplotlib.pyplot as plt\n",
    "\n",
    "# Define the x values (chi-square statistic)\n",
    "x = np.linspace(0, 30, 200)\n",
    "\n",
    "# Define the degrees of freedom\n",
    "df = 10\n",
    "\n",
    "# Plot the chi-square distribution\n",
    "plt.plot(x, stats.chi2.pdf(x, df))\n",
    "\n",
    "# Shade the area corresponding to a chi-square statistic of 15\n",
    "x_shade = np.linspace(15, 30, 100)\n",
    "y_shade = stats.chi2.pdf(x_shade, df)\n",
    "plt.fill_between(x_shade, y_shade, color='blue', alpha=0.2)\n",
    "\n",
    "# Label the axes\n",
    "plt.xlabel('Chi-square statistic')\n",
    "plt.ylabel('Probability density')\n",
    "plt.title('Chi-square distribution with 10 degrees of freedom')\n",
    "\n",
    "# Show the plot\n",
    "plt.show()\n"
   ]
  },
  {
   "attachments": {},
   "cell_type": "markdown",
   "metadata": {},
   "source": [
    "- In this code, we first define a range of x values (x) to plot the chi-square distribution over. We also define the degrees of freedom (df) as 10. Then we plot the chi-square probability density function using the pdf() function from scipy.stats.chi2. We then use the fill_between() function to shade the area corresponding to a chi-square statistic of 15, which we define as the range x_shade = np.linspace(15, 30, 100).\n",
    "#\n",
    "- Finally, we label the axes and title of the plot using the xlabel(), ylabel(), and title() functions from matplotlib.pyplot. The show() function is used to display the plot.\n",
    "#\n",
    "- The resulting plot shows the chi-square distribution with 10 degrees of freedom, with the area corresponding to a chi-square statistic of 15 shaded in blue.\n",
    "    - The x-axis is labeled \"Chi-square statistic\" and the y-axis is labeled \"Probability density\".\n",
    "    - The title of the plot is \"Chi-square distribution with 10 degrees of freedom\"."
   ]
  },
  {
   "attachments": {},
   "cell_type": "markdown",
   "metadata": {},
   "source": [
    "#### Q7. A random sample of 1000 people was asked if they preferred Coke or Pepsi. Of the sample, 520 preferred Coke. Calculate a 99% confidence interval for the true proportion of people in the population who prefer Coke."
   ]
  },
  {
   "cell_type": "code",
   "execution_count": 47,
   "metadata": {},
   "outputs": [
    {
     "name": "stdout",
     "output_type": "stream",
     "text": [
      "99% confidence interval: (0.4793, 0.5607)\n"
     ]
    }
   ],
   "source": [
    "import numpy as np\n",
    "import scipy.stats as stats\n",
    "\n",
    "# Sample size and proportion\n",
    "n = 1000\n",
    "p = 520 / n\n",
    "\n",
    "# Critical value for a 99% confidence level\n",
    "z = stats.norm.ppf(0.995)\n",
    "\n",
    "# Calculate the confidence interval\n",
    "CI = (p - z*np.sqrt(p*(1-p)/n), p + z*np.sqrt(p*(1-p)/n))\n",
    "\n",
    "# Print the result\n",
    "print(\"99% confidence interval: ({:.4f}, {:.4f})\".format(CI[0], CI[1]))\n"
   ]
  },
  {
   "attachments": {},
   "cell_type": "markdown",
   "metadata": {},
   "source": [
    "- In this code, we first calculate the sample proportion (p) as the number of people who preferred Coke divided by the sample size. We then use stats.norm.ppf(0.995) to find the critical value z for a 99% confidence level. We calculate the confidence interval using the formula above and store the lower and upper bounds in the tuple CI. Finally, we print the result using string formatting to display the confidence interval with 4 decimal places.\n",
    "#\n",
    "    Output : 99% confidence interval: (0.4793, 0.5607)\n",
    "- This means that we can be 99% confident that the true proportion of people in the population who prefer Coke falls within the interval (0.4793, 0.5607) based on our sample data."
   ]
  },
  {
   "attachments": {},
   "cell_type": "markdown",
   "metadata": {},
   "source": [
    "#### Q8. A researcher hypothesizes that a coin is biased towards tails. They flip the coin 100 times and observe 45 tails. Conduct a chi-square goodness of fit test to determine if the observed frequencies match the expected frequencies of a fair coin. Use a significance level of 0.05."
   ]
  },
  {
   "attachments": {},
   "cell_type": "markdown",
   "metadata": {},
   "source": [
    "- To conduct a chi-square goodness of fit test for this problem, we need to first define the null and alternative hypotheses. The null hypothesis is that the coin is fair, while the alternative hypothesis is that the coin is biased towards tails.\n",
    "#\n",
    "- The expected frequencies for a fair coin can be calculated by assuming that the probability of getting tails is 0.5 and the probability of getting heads is 0.5. Thus, if we flip the coin 100 times, we would expect to get 50 tails and 50 heads.\n",
    "#\n",
    "- To calculate the chi-square statistic, we need to compare the observed frequencies (45 tails and 55 heads) to the expected frequencies (50 tails and 50 heads). The formula for the chi-square statistic is:\n",
    "#\n",
    "    chi2 = sum((observed - expected)^2 / expected)\n",
    "- where, observed and expected are arrays of observed and expected frequencies, respectively.\n",
    "#\n",
    "- The stats.chisquare() function from scipy.stats can be used to calculate the chi-square statistic and p-value."
   ]
  },
  {
   "cell_type": "code",
   "execution_count": 48,
   "metadata": {},
   "outputs": [
    {
     "name": "stdout",
     "output_type": "stream",
     "text": [
      "Chi-square statistic: 1.0\n",
      "p-value: 0.31731050786291115\n"
     ]
    }
   ],
   "source": [
    "import numpy as np\n",
    "import scipy.stats as stats\n",
    "\n",
    "# Observed frequencies\n",
    "observed = np.array([45, 55])\n",
    "\n",
    "# Expected frequencies\n",
    "expected = np.array([50, 50])\n",
    "\n",
    "# Calculate the chi-square statistic and p-value\n",
    "chi2, pval = stats.chisquare(observed, expected)\n",
    "\n",
    "# Print the result\n",
    "print(\"Chi-square statistic:\", chi2)\n",
    "print(\"p-value:\", pval)"
   ]
  },
  {
   "attachments": {},
   "cell_type": "markdown",
   "metadata": {},
   "source": [
    "- The chi-square statistic is 1.0 and the p-value is 0.317. Since the p-value is greater than the significance level of 0.05, we fail to reject the null hypothesis.\n",
    "- So, we do not have sufficient evidence to conclude that the coin is biased towards tails based on the observed data."
   ]
  },
  {
   "attachments": {},
   "cell_type": "markdown",
   "metadata": {},
   "source": [
    "#### Q9. A study was conducted to determine if there is an association between smoking status (smoker or non-smoker) and lung cancer diagnosis (yes or no). The results are shown in the contingency table below. Conduct a chi-square test for independence to determine if there is a significant association between smoking status and lung cancer diagnosis.\n",
    "#### Use a significance level of 0.05.\n",
    "#\n",
    "                    Lung Cancer : Yes       Lung Cancer : No\n",
    "    Smoker          60                       140\n",
    "    Non-Smoker      30                       170"
   ]
  },
  {
   "attachments": {},
   "cell_type": "markdown",
   "metadata": {},
   "source": [
    "- To conduct a chi-square test for independence for this problem, we need to first define the null and alternative hypotheses.\n",
    "- The null hypothesis is that there is no association between smoking status and lung cancer diagnosis.\n",
    "- The alternative hypothesis is that there is a significant association between the two variables.\n",
    "#\n",
    "- We can calculate the expected frequencies for each cell in the contingency table assuming that there is no association between the two variables. The expected frequency for a cell is calculated as:\n",
    "#\n",
    "    Expected frequency = (row total * column total) / grand total\n",
    "- where the grand total is the total number of observations in the contingency table.\n",
    "#\n",
    "The stats.chi2_contingency() function from scipy.stats can be used to calculate the chi-square statistic, p-value, degrees of freedom, and expected frequencies. We pass in the observed frequencies as an argument."
   ]
  },
  {
   "cell_type": "code",
   "execution_count": 49,
   "metadata": {},
   "outputs": [
    {
     "name": "stdout",
     "output_type": "stream",
     "text": [
      "Chi-square statistic: 12.057347670250895\n",
      "p-value: 0.0005158863863703744\n"
     ]
    }
   ],
   "source": [
    "import numpy as np\n",
    "import scipy.stats as stats\n",
    "\n",
    "# Contingency table\n",
    "observed = np.array([[60, 140], [30, 170]])\n",
    "\n",
    "# Calculate the chi-square statistic and p-value\n",
    "chi2, pval, dof, expected = stats.chi2_contingency(observed)\n",
    "\n",
    "# Print the result\n",
    "print(\"Chi-square statistic:\", chi2)\n",
    "print(\"p-value:\", pval)"
   ]
  },
  {
   "attachments": {},
   "cell_type": "markdown",
   "metadata": {},
   "source": [
    "- The chi-square statistic is 12.05 and the p-value is less than the significance level of 0.05. Therefore, we reject the null hypothesis and conclude that there is a significant association between smoking status and lung cancer diagnosis."
   ]
  },
  {
   "attachments": {},
   "cell_type": "markdown",
   "metadata": {},
   "source": [
    "#### Q10.  A study was conducted to determine if the proportion of people who prefer milk chocolate, dark chocolate, or white chocolate is different in the U.S. versus the U.K. A random sample of 500 people from the U.S. and a random sample of 500 people from the U.K. were surveyed. The results are shown in the contingency table below. Conduct a chi-square test for independence to determine if there is a significant association between chocolate preference and country of origin.\n",
    "#### Use a significance level of 0.01. \n",
    "#\n",
    "                    Milk Chocolate      Dark Chocolate      White Chocolate\n",
    "    U.S.(n=500)     200                      150                150\n",
    "    U.K.(n=500)     225                      175                100"
   ]
  },
  {
   "attachments": {},
   "cell_type": "markdown",
   "metadata": {},
   "source": [
    "- To conduct a chi-square test for independence for this problem, we need to first define the null and alternative hypotheses. The null hypothesis is that there is no association between chocolate preference and country of origin, while the alternative hypothesis is that there is a significant association between the two variables.\n",
    "#\n",
    "- We can calculate the expected frequencies for each cell in the contingency table assuming that there is no association between the two variables. The expected frequency for a cell is calculated as:\n",
    "#\n",
    "    Expected frequency = (row total * column total) / grand total\n",
    "#\n",
    "- where the grand total is the total number of observations in the contingency table.\n",
    "#\n",
    "- The stats.chi2_contingency() function from scipy.stats can be used to calculate the chi-square statistic, p-value, degrees of freedom, and expected frequencies. We pass in the observed frequencies as an argument."
   ]
  },
  {
   "cell_type": "code",
   "execution_count": 50,
   "metadata": {},
   "outputs": [
    {
     "name": "stdout",
     "output_type": "stream",
     "text": [
      "Chi-square statistic: 13.393665158371041\n",
      "p-value: 0.0012348168997745918\n"
     ]
    }
   ],
   "source": [
    "import numpy as np\n",
    "import scipy.stats as stats\n",
    "\n",
    "# Contingency table\n",
    "observed = np.array([[200, 150, 150], [225, 175, 100]])\n",
    "\n",
    "# Calculate the chi-square statistic and p-value\n",
    "chi2, pval, dof, expected = stats.chi2_contingency(observed)\n",
    "\n",
    "# Print the result\n",
    "print(\"Chi-square statistic:\", chi2)\n",
    "print(\"p-value:\", pval)"
   ]
  },
  {
   "attachments": {},
   "cell_type": "markdown",
   "metadata": {},
   "source": [
    "- The chi-square statistic is 13.39 and the p-value is less than the significance level of 0.01. Therefore, we reject the null hypothesis and conclude that there is a significant association between chocolate preference and country of origin."
   ]
  },
  {
   "attachments": {},
   "cell_type": "markdown",
   "metadata": {},
   "source": [
    "#### Q11. A random sample of 30 people were selected from a population with an unknown mean and standard deviation. The sample mean was found to be 72 and the sample standard deviation was found to be 10. Conduct a hypothesis test to determine if the population mean is significantly different from 70. Use a significance level of 0.05."
   ]
  },
  {
   "attachments": {},
   "cell_type": "markdown",
   "metadata": {},
   "source": [
    "- To conduct a hypothesis test for this problem, we need to first define the null and alternative hypotheses. The null hypothesis is that the population mean is equal to 70, while the alternative hypothesis is that the population mean is not equal to 70.\n",
    "#\n",
    "- Since the sample size is small (n < 30) and the population standard deviation is unknown, we will use a t-test for this problem.\n",
    "- We can calculate the t-statistic and p-value as the code below:"
   ]
  },
  {
   "cell_type": "code",
   "execution_count": 51,
   "metadata": {},
   "outputs": [
    {
     "name": "stdout",
     "output_type": "stream",
     "text": [
      "t-statistic: 1.0954451150103321\n",
      "p-value: 0.2823362372860698\n"
     ]
    }
   ],
   "source": [
    "import numpy as np\n",
    "import scipy.stats as stats\n",
    "\n",
    "# Sample statistics\n",
    "sample_size = 30\n",
    "sample_mean = 72\n",
    "sample_std = 10\n",
    "\n",
    "# Hypothesized population mean\n",
    "hypothesized_mean = 70\n",
    "\n",
    "# Calculate the standard error of the mean\n",
    "se = sample_std / np.sqrt(sample_size)\n",
    "\n",
    "# Calculate the t-statistic\n",
    "t = (sample_mean - hypothesized_mean) / se\n",
    "\n",
    "# Calculate the p-value\n",
    "pval = 2 * (1 - stats.t.cdf(abs(t), df=sample_size-1))\n",
    "\n",
    "# Print the result\n",
    "print(\"t-statistic:\", t)\n",
    "print(\"p-value:\", pval)\n"
   ]
  },
  {
   "attachments": {},
   "cell_type": "markdown",
   "metadata": {},
   "source": [
    "- The t-statistic is 1.095 and the p-value is 0.282.\n",
    "- Since the p-value is greater than the significance level of 0.05, we fail to reject the null hypothesis.\n",
    "- So, we do not have sufficient evidence to conclude that the population mean is significantly different from 70."
   ]
  }
 ],
 "metadata": {
  "kernelspec": {
   "display_name": "Python 3",
   "language": "python",
   "name": "python3"
  },
  "language_info": {
   "codemirror_mode": {
    "name": "ipython",
    "version": 3
   },
   "file_extension": ".py",
   "mimetype": "text/x-python",
   "name": "python",
   "nbconvert_exporter": "python",
   "pygments_lexer": "ipython3",
   "version": "3.10.10"
  },
  "orig_nbformat": 4
 },
 "nbformat": 4,
 "nbformat_minor": 2
}
